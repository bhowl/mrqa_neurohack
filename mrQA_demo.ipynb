{
 "cells": [
  {
   "cell_type": "code",
   "execution_count": 23,
   "id": "d1a83bf1-caef-4648-8802-1040523fa614",
   "metadata": {
    "tags": []
   },
   "outputs": [],
   "source": [
    "# Install necessary packages\n",
    "!pip install -q MRdataset\n",
    "!pip install -q mrQA"
   ]
  },
  {
   "cell_type": "code",
   "execution_count": 24,
   "id": "29694ab4-031e-4cb9-8ccc-5c357b215885",
   "metadata": {
    "tags": []
   },
   "outputs": [],
   "source": [
    "# Import required libraries\n",
    "import IPython\n",
    "from MRdataset import import_dataset\n",
    "from mrQA import check_compliance"
   ]
  },
  {
   "cell_type": "code",
   "execution_count": 25,
   "id": "d32ecc14-c14e-4d05-9362-75e2ef6380bf",
   "metadata": {
    "tags": []
   },
   "outputs": [],
   "source": [
    "# Define data paths\n",
    "data_root = '/home/jovyan/shared/ds003688'  # Change path here\n",
    "output_dir = '/home/jovyan/group_project/mrqa_reports/'  # Change path here"
   ]
  },
  {
   "cell_type": "code",
   "execution_count": 26,
   "id": "24dd78a4-07d3-4629-9f05-bbdd77277054",
   "metadata": {
    "tags": []
   },
   "outputs": [],
   "source": [
    "# Import the dataset\n",
    "dataset = import_dataset(data_source=data_root,\n",
    "                         ds_format='bids',\n",
    "                         name='ds003688')"
   ]
  },
  {
   "cell_type": "code",
   "execution_count": 27,
   "id": "ab04a375-0ccd-443c-bb67-53faa6aa3fcb",
   "metadata": {
    "tags": []
   },
   "outputs": [
    {
     "name": "stdout",
     "output_type": "stream",
     "text": [
      "FastBIDSDataset ds003688 with 2 Modality\n"
     ]
    }
   ],
   "source": [
    "# Print dataset information\n",
    "print(dataset)"
   ]
  },
  {
   "cell_type": "code",
   "execution_count": 28,
   "id": "f6b30c6b-a86b-4a9a-90c8-7048990c32d5",
   "metadata": {
    "tags": []
   },
   "outputs": [
    {
     "name": "stdout",
     "output_type": "stream",
     "text": [
      "Modality anat_T1w with 63 Subject\n",
      "Modality func_task-film_bold with 30 Subject\n"
     ]
    }
   ],
   "source": [
    "# Print modalities and subjects\n",
    "for modality in dataset.modalities:\n",
    "    print(modality)"
   ]
  },
  {
   "cell_type": "code",
   "execution_count": 29,
   "id": "08cc8bc6-4aa1-4305-b1a2-a247ffa6ca18",
   "metadata": {
    "tags": []
   },
   "outputs": [
    {
     "name": "stdout",
     "output_type": "stream",
     "text": [
      "In ds003688 dataset, modalities \"anat_T1w\" are non-compliant. See /home/jovyan/group_project/mrqa_reports/ds003688_DATE_08_15_2023_05_14_58.html for report\n"
     ]
    },
    {
     "data": {
      "text/plain": [
       "PosixPath('/home/jovyan/group_project/mrqa_reports/ds003688_DATE_08_15_2023_05_14_58.html')"
      ]
     },
     "execution_count": 29,
     "metadata": {},
     "output_type": "execute_result"
    }
   ],
   "source": [
    "# Check compliance and generate a report\n",
    "check_compliance(dataset=dataset, output_dir=output_dir)"
   ]
  },
  {
   "cell_type": "code",
   "execution_count": null,
   "id": "a03e90f0-55b4-4ab0-bcff-4b072db94383",
   "metadata": {},
   "outputs": [],
   "source": []
  }
 ],
 "metadata": {
  "kernelspec": {
   "display_name": "Python 3 (ipykernel)",
   "language": "python",
   "name": "python3"
  },
  "language_info": {
   "codemirror_mode": {
    "name": "ipython",
    "version": 3
   },
   "file_extension": ".py",
   "mimetype": "text/x-python",
   "name": "python",
   "nbconvert_exporter": "python",
   "pygments_lexer": "ipython3",
   "version": "3.10.11"
  }
 },
 "nbformat": 4,
 "nbformat_minor": 5
}
